{
 "cells": [
  {
   "cell_type": "code",
   "execution_count": 1,
   "id": "77870b60-c56f-4053-bd75-cb4fb0a7f622",
   "metadata": {},
   "outputs": [],
   "source": [
    "from compose.can_id import CanId, HealthcareMessages, SwitchMatrixMessages, Direction"
   ]
  },
  {
   "cell_type": "code",
   "execution_count": 2,
   "id": "1952f7de-4c0d-4eb2-8dbe-a6829e798a5c",
   "metadata": {},
   "outputs": [
    {
     "name": "stdout",
     "output_type": "stream",
     "text": [
      "10000011\n"
     ]
    }
   ],
   "source": [
    "print(\n",
    "    CanId(HealthcareMessages.msg1, module_id=1)\n",
    ")"
   ]
  },
  {
   "cell_type": "code",
   "execution_count": null,
   "id": "aecc2f58-9980-4f16-8302-72568bd15ae0",
   "metadata": {},
   "outputs": [],
   "source": []
  }
 ],
 "metadata": {
  "kernelspec": {
   "display_name": "Python 3 (ipykernel)",
   "language": "python",
   "name": "python3"
  },
  "language_info": {
   "codemirror_mode": {
    "name": "ipython",
    "version": 3
   },
   "file_extension": ".py",
   "mimetype": "text/x-python",
   "name": "python",
   "nbconvert_exporter": "python",
   "pygments_lexer": "ipython3",
   "version": "3.9.12"
  }
 },
 "nbformat": 4,
 "nbformat_minor": 5
}
